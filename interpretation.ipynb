{
 "cells": [
  {
   "cell_type": "code",
   "execution_count": 6,
   "id": "5a743b1d-4458-4c5e-9ffc-d82c6b66f316",
   "metadata": {},
   "outputs": [],
   "source": [
    "import os\n",
    "import numpy as np\n",
    "import pandas as pd\n",
    "\n",
    "from joblib import load\n",
    "from tqdm.notebook import tqdm\n",
    "from torch.utils import data\n",
    "\n",
    "from sklearn.metrics import roc_auc_score, f1_score, precision_score, recall_score\n",
    "from IPython.display import clear_output\n",
    "\n",
    "import torch\n",
    "from torch.utils import data\n",
    "\n",
    "from src.Sparse_vector.sparse_vector import SparseVector\n",
    "from src.data_preparation import get_train_test_dataset\n",
    "from src.train_test import set_random_seed, train\n"
   ]
  },
  {
   "cell_type": "code",
   "execution_count": 7,
   "id": "26049de4-bf3d-4b05-bb03-ae5af78c56a6",
   "metadata": {},
   "outputs": [],
   "source": [
    "from src.interpretation import cnn_interpretation_pipeline"
   ]
  },
  {
   "cell_type": "code",
   "execution_count": 3,
   "id": "35f231de-0cbf-47a0-a93c-8f5af44357f7",
   "metadata": {},
   "outputs": [],
   "source": [
    "def chrom_reader(chrom):\n",
    "    files = sorted([i for i in os.listdir(f\"z_dna/hg38_dna/\") if f\"{chrom}_\" in i])\n",
    "    return \"\".join([load(f\"z_dna/hg38_dna/{file}\") for file in files])\n",
    "\n",
    "\n",
    "chroms = [f\"chr{i}\" for i in list(range(1, 23)) + [\"X\", \"Y\", \"M\"]]\n",
    "all_features = [\n",
    "    i[:-4] for i in os.listdir(\"z_dna/hg38_features/sparse/\") if i.endswith(\".pkl\")\n",
    "]\n",
    "groups = [\"DNase-seq\", \"Histone\", \"RNA polymerase\", \"TFs and others\"]\n",
    "feature_names = [i for i in all_features]\n"
   ]
  },
  {
   "cell_type": "code",
   "execution_count": 4,
   "id": "6979e367-e140-462d-ac9a-b90485c4c255",
   "metadata": {},
   "outputs": [
    {
     "data": {
      "application/vnd.jupyter.widget-view+json": {
       "model_id": "e0588136a2864b67a65d88c36334721b",
       "version_major": 2,
       "version_minor": 0
      },
      "text/plain": [
       "  0%|          | 0/25 [00:00<?, ?it/s]"
      ]
     },
     "metadata": {},
     "output_type": "display_data"
    },
    {
     "data": {
      "application/vnd.jupyter.widget-view+json": {
       "model_id": "3f2e416d37354a20aacf94c05f2c3990",
       "version_major": 2,
       "version_minor": 0
      },
      "text/plain": [
       "  0%|          | 0/1946 [00:00<?, ?it/s]"
      ]
     },
     "metadata": {},
     "output_type": "display_data"
    },
    {
     "name": "stdout",
     "output_type": "stream",
     "text": [
      "CPU times: user 2min 24s, sys: 15.6 s, total: 2min 39s\n",
      "Wall time: 4min 27s\n"
     ]
    }
   ],
   "source": [
    "%%time\n",
    "DNA = {chrom: chrom_reader(chrom) for chrom in tqdm(chroms)}\n",
    "\n",
    "ZDNA_data = load(\"Quad/g4.pkl\")\n",
    "\n",
    "DNA_features = {\n",
    "    feature: load(f\"z_dna/hg38_features/sparse/{feature}.pkl\")\n",
    "    for feature in tqdm(feature_names)\n",
    "}\n"
   ]
  },
  {
   "cell_type": "code",
   "execution_count": 5,
   "id": "61c49ec1-7ec7-4d61-b0ea-5dcd47011969",
   "metadata": {},
   "outputs": [
    {
     "name": "stderr",
     "output_type": "stream",
     "text": [
      "100%|██████████| 2489564/2489564 [00:33<00:00, 75021.41it/s]\n",
      "100%|██████████| 2421935/2421935 [00:31<00:00, 76866.49it/s]\n",
      "100%|██████████| 1982955/1982955 [00:25<00:00, 78773.20it/s]\n",
      "100%|██████████| 1902145/1902145 [00:25<00:00, 73818.04it/s]\n",
      "100%|██████████| 1815382/1815382 [00:22<00:00, 79390.53it/s]\n",
      "100%|██████████| 1708059/1708059 [00:20<00:00, 82749.55it/s]\n",
      "100%|██████████| 1593459/1593459 [00:21<00:00, 74647.34it/s]\n",
      "100%|██████████| 1451386/1451386 [00:17<00:00, 84683.72it/s]\n",
      "100%|██████████| 1383947/1383947 [00:20<00:00, 66719.98it/s]\n",
      "100%|██████████| 1337974/1337974 [00:18<00:00, 70778.76it/s]\n",
      "100%|██████████| 1350866/1350866 [00:18<00:00, 73252.34it/s]\n",
      "100%|██████████| 1332753/1332753 [00:18<00:00, 71316.18it/s]\n",
      "100%|██████████| 1143643/1143643 [00:18<00:00, 60631.19it/s]\n",
      "100%|██████████| 1070437/1070437 [00:14<00:00, 72086.09it/s]\n",
      "100%|██████████| 1019911/1019911 [00:14<00:00, 72149.22it/s]\n",
      "100%|██████████| 903383/903383 [00:12<00:00, 71172.42it/s]\n",
      "100%|██████████| 832574/832574 [00:11<00:00, 71902.70it/s]\n",
      "100%|██████████| 803732/803732 [00:11<00:00, 71202.08it/s]\n",
      "100%|██████████| 586176/586176 [00:12<00:00, 48504.25it/s]\n",
      "100%|██████████| 644441/644441 [00:09<00:00, 71249.52it/s]\n",
      "100%|██████████| 467099/467099 [00:06<00:00, 70653.94it/s]\n",
      "100%|██████████| 508184/508184 [00:06<00:00, 72866.76it/s]\n",
      "100%|██████████| 1560408/1560408 [00:21<00:00, 71706.62it/s]\n",
      "100%|██████████| 572274/572274 [00:07<00:00, 72165.17it/s]\n",
      "100%|██████████| 165/165 [00:00<00:00, 38638.83it/s]\n",
      "/opt/software/python/envs/google_colab_gpu_2024/lib/python3.10/site-packages/sklearn/model_selection/_split.py:776: UserWarning: The least populated class in y has only 3 members, which is less than n_splits=5.\n",
      "  warnings.warn(\n"
     ]
    }
   ],
   "source": [
    "np.random.seed(10)\n",
    "\n",
    "width = 100\n",
    "\n",
    "train_dataset, test_dataset = get_train_test_dataset(width, chroms, feature_names, DNA, DNA_features, ZDNA_data)"
   ]
  },
  {
   "cell_type": "code",
   "execution_count": 6,
   "id": "f1446acb-a291-4940-be4c-6a8da81282a1",
   "metadata": {},
   "outputs": [],
   "source": [
    "params = {\"batch_size\": 1, \"num_workers\": 5, \"shuffle\": True, \"pin_memory\": True}\n",
    "\n",
    "loader_train = data.DataLoader(train_dataset, **params)\n",
    "loader_test = data.DataLoader(test_dataset, **params)\n"
   ]
  },
  {
   "cell_type": "code",
   "execution_count": null,
   "id": "c81ba996-e8aa-4166-b06a-bb703e279304",
   "metadata": {},
   "outputs": [],
   "source": [
    "from torch import nn\n",
    "import torch.nn.functional as F\n",
    "from sklearn.metrics import roc_auc_score, f1_score, average_precision_score\n",
    "from IPython.display import clear_output\n",
    "\n",
    "\n",
    "class ImageZ(nn.Module):\n",
    "    def __init__(self, width, features_count):\n",
    "        super().__init__()\n",
    "        self.width = width\n",
    "        self.features_count = features_count\n",
    "\n",
    "        self.seq = nn.Sequential(\n",
    "            nn.Conv2d(1, 4, kernel_size=(3, 3), padding=1),\n",
    "            nn.ReLU(),\n",
    "            nn.GroupNorm(2, 4),\n",
    "            nn.Conv2d(4, 8, kernel_size=(3, 3), padding=1),\n",
    "            nn.ReLU(),\n",
    "            nn.GroupNorm(4, 8),\n",
    "            nn.Conv2d(8, 16, kernel_size=(3, 3), padding=1),\n",
    "            nn.ReLU(),\n",
    "            nn.GroupNorm(8, 16),\n",
    "            nn.Conv2d(16, 32, kernel_size=(3, 3), padding=1),\n",
    "            nn.ReLU(),\n",
    "            nn.GroupNorm(16, 32),\n",
    "            nn.Conv2d(32, 64, kernel_size=(3, 3), padding=1),\n",
    "            nn.ReLU(),\n",
    "            nn.GroupNorm(16, 64),\n",
    "            nn.Conv2d(64, 128, kernel_size=(5, 5), padding=2),\n",
    "            nn.ReLU(),\n",
    "            nn.GroupNorm(32, 128),\n",
    "            nn.Conv2d(128, 64, kernel_size=(3, 3), padding=1),\n",
    "            nn.ReLU(),\n",
    "            nn.GroupNorm(32, 64),\n",
    "            nn.Conv2d(64, 32, kernel_size=(3, 3), padding=1),\n",
    "            nn.ReLU(),\n",
    "            nn.GroupNorm(16, 32),\n",
    "            nn.Conv2d(32, 16, kernel_size=(3, 3), padding=1),\n",
    "            nn.ReLU(),\n",
    "            nn.GroupNorm(8, 16),\n",
    "            nn.Conv2d(16, 8, kernel_size=(3, 3), padding=1),\n",
    "            nn.ReLU(),\n",
    "            nn.GroupNorm(4, 8),\n",
    "            nn.Conv2d(8, 4, kernel_size=(3, 3), padding=1),\n",
    "            nn.ReLU(),\n",
    "            nn.GroupNorm(4, 4),\n",
    "            nn.Conv2d(4, 1, kernel_size=(3, 3), padding=1),\n",
    "            nn.ReLU(),\n",
    "            nn.GroupNorm(1, 1),\n",
    "            nn.AlphaDropout(p=0.2),\n",
    "            nn.Linear(features_count + 4, 500),\n",
    "            nn.AlphaDropout(p=0.2),\n",
    "            nn.SELU(),\n",
    "            nn.Linear(500, 2),\n",
    "        )\n",
    "\n",
    "    def forward(self, x):\n",
    "        batch = x.shape[0]\n",
    "        x = x.reshape(batch, 1, self.width, self.features_count + 4)\n",
    "        x = self.seq(x)\n",
    "        x = torch.squeeze(x)\n",
    "        x = F.log_softmax(x, dim=-1)\n",
    "        return x\n"
   ]
  },
  {
   "cell_type": "code",
   "execution_count": 23,
   "id": "437ab0dc-0b06-4818-a229-351bac4f53df",
   "metadata": {},
   "outputs": [],
   "source": [
    "import gc\n",
    "\n",
    "model = ImageZ(width, len(feature_names))\n",
    "model = nn.DataParallel(model)\n",
    "model.load_state_dict(torch.load(\"quad_model_0.692.pt\", weights_only=True))\n",
    "model = model.to(\"cuda\")\n",
    "model.eval()\n",
    "\n",
    "gc.collect()\n",
    "\n",
    "torch.cuda.empty_cache()\n"
   ]
  },
  {
   "cell_type": "code",
   "execution_count": null,
   "id": "a0bf95ee-cd20-4d81-87ee-cf16b46431dd",
   "metadata": {},
   "outputs": [],
   "source": [
    "from torch.utils.data import DataLoader, Subset\n",
    "\n",
    "subset_size = 10000\n",
    "indices = list(range(subset_size))\n",
    "\n",
    "subset = Subset(test_dataset, indices)\n",
    "params = {\"batch_size\": 1, \"num_workers\": 5, \"shuffle\": True, \"pin_memory\": True}\n",
    "\n",
    "loader_test_subset = data.DataLoader(subset, **params)\n"
   ]
  },
  {
   "cell_type": "code",
   "execution_count": 29,
   "id": "21847d66-e6c5-4bc2-8af7-cfb923d544a2",
   "metadata": {},
   "outputs": [],
   "source": [
    "mean_IG = cnn_interpretation_pipeline(\n",
    "    model,\n",
    "    loader_test_subset,\n",
    "    loader_train,\n",
    "    width,\n",
    "    \"interpretation_files/mean_IntegratedGradients_quad\",\n",
    "    \"IntegratedGradients\",\n",
    "    need_return=1,\n",
    ")\n"
   ]
  },
  {
   "cell_type": "code",
   "execution_count": 30,
   "id": "e9485499-762a-4df7-8864-cde6a3873ea7",
   "metadata": {},
   "outputs": [
    {
     "data": {
      "application/vnd.jupyter.widget-view+json": {
       "model_id": "a933022738fb4873a2527e1ac3cd0bb4",
       "version_major": 2,
       "version_minor": 0
      },
      "text/plain": [
       "  0%|          | 0/500 [00:00<?, ?it/s]"
      ]
     },
     "metadata": {},
     "output_type": "display_data"
    },
    {
     "name": "stderr",
     "output_type": "stream",
     "text": [
      "/home/vvmalkov/.local/lib/python3.10/site-packages/captum/attr/_core/deep_lift.py:294: UserWarning: Input Tensor 0 did not already require gradients, required_grads has been set automatically.\n",
      "  gradient_mask = apply_gradient_requirements(inputs_tuple)\n",
      "/home/vvmalkov/.local/lib/python3.10/site-packages/captum/log/dummy_log.py:39: UserWarning: Setting forward, backward hooks and attributes on non-linear\n",
      "               activations. The hooks and attributes will be removed\n",
      "            after the attribution is finished\n",
      "  return func(*args, **kwargs)\n"
     ]
    },
    {
     "name": "stdout",
     "output_type": "stream",
     "text": [
      "Averaged tensor shape: torch.Size([1950])\n",
      "Averaged tensor: tensor([-2.6325e-03,  1.3969e-02,  1.2204e-02,  ...,  4.2321e-07,\n",
      "        -1.4544e-07, -1.7494e-06], dtype=torch.float64)\n",
      "Interpretation result is an averaged tensor. It is saved as:\n",
      "interpretation_files/mean_DeepLift_quad.pt\n"
     ]
    }
   ],
   "source": [
    "mean_DL = cnn_interpretation_pipeline(\n",
    "    model,\n",
    "    loader_test_subset,\n",
    "    loader_train,\n",
    "    width,\n",
    "    \"interpretation_files/mean_DeepLift_quad\",\n",
    "    \"DeepLift\",\n",
    "    need_return=1,\n",
    ")\n"
   ]
  },
  {
   "cell_type": "code",
   "execution_count": 31,
   "id": "cc9e2908-c47b-4203-b0f8-a09166190a8f",
   "metadata": {},
   "outputs": [
    {
     "data": {
      "application/vnd.jupyter.widget-view+json": {
       "model_id": "5bd1f1888f0345ca897e3541ecb09804",
       "version_major": 2,
       "version_minor": 0
      },
      "text/plain": [
       "  0%|          | 0/10000 [00:00<?, ?it/s]"
      ]
     },
     "metadata": {},
     "output_type": "display_data"
    },
    {
     "name": "stderr",
     "output_type": "stream",
     "text": [
      "/home/vvmalkov/.local/lib/python3.10/site-packages/captum/attr/_core/input_x_gradient.py:118: UserWarning: Input Tensor 0 did not already require gradients, required_grads has been set automatically.\n",
      "  gradient_mask = apply_gradient_requirements(inputs_tuple)\n"
     ]
    },
    {
     "name": "stdout",
     "output_type": "stream",
     "text": [
      "Averaged tensor shape: torch.Size([1950])\n",
      "Averaged tensor: tensor([ 6.2885e-02,  7.4319e-01,  6.0160e-01,  ..., -1.0578e-04,\n",
      "         1.1955e-04, -3.9027e-04], dtype=torch.float64)\n",
      "Interpretation result is an averaged tensor. It is saved as:\n",
      "interpretation_files/mean_InputXGradient_quad.pt\n"
     ]
    }
   ],
   "source": [
    "mean_IXG = cnn_interpretation_pipeline(\n",
    "    model,\n",
    "    loader_test_subset,\n",
    "    loader_train,\n",
    "    width,\n",
    "    \"interpretation_files/mean_InputXGradient_quad\",\n",
    "    \"InputXGradient\",\n",
    "    need_return=1,\n",
    ")\n"
   ]
  },
  {
   "cell_type": "code",
   "execution_count": 32,
   "id": "42ee24b1-ac82-4059-ac4c-b3d9f3d2dadf",
   "metadata": {},
   "outputs": [
    {
     "data": {
      "application/vnd.jupyter.widget-view+json": {
       "model_id": "f1876103a0814c8a93508b975748c7da",
       "version_major": 2,
       "version_minor": 0
      },
      "text/plain": [
       "  0%|          | 0/10000 [00:00<?, ?it/s]"
      ]
     },
     "metadata": {},
     "output_type": "display_data"
    },
    {
     "name": "stderr",
     "output_type": "stream",
     "text": [
      "/home/vvmalkov/.local/lib/python3.10/site-packages/captum/attr/_core/guided_backprop_deconvnet.py:63: UserWarning: Input Tensor 0 did not already require gradients, required_grads has been set automatically.\n",
      "  gradient_mask = apply_gradient_requirements(inputs_tuple)\n",
      "/home/vvmalkov/.local/lib/python3.10/site-packages/captum/attr/_core/guided_backprop_deconvnet.py:66: UserWarning: Setting backward hooks on ReLU activations.The hooks will be removed after the attribution is finished\n",
      "  warnings.warn(\n"
     ]
    },
    {
     "name": "stdout",
     "output_type": "stream",
     "text": [
      "Averaged tensor shape: torch.Size([1950])\n",
      "Averaged tensor: tensor([0.0013, 0.0518, 0.1676,  ..., 0.0014, 0.0007, 0.0004],\n",
      "       dtype=torch.float64)\n",
      "Interpretation result is an averaged tensor. It is saved as:\n",
      "interpretation_files/mean_GuidedBackpropagation_quad.pt\n"
     ]
    }
   ],
   "source": [
    "mean_GB = cnn_interpretation_pipeline(\n",
    "    model,\n",
    "    loader_test_subset,\n",
    "    loader_train,\n",
    "    width,\n",
    "    \"interpretation_files/mean_GuidedBackpropagation_quad\",\n",
    "    \"GuidedBackpropagation\",\n",
    "    need_return=1,\n",
    ")\n"
   ]
  },
  {
   "cell_type": "code",
   "execution_count": 33,
   "id": "dc511208-8877-4a8f-a92f-19e2d4a232f7",
   "metadata": {},
   "outputs": [
    {
     "data": {
      "application/vnd.jupyter.widget-view+json": {
       "model_id": "029814d8ad4e4cb8aafef46f6c3b776a",
       "version_major": 2,
       "version_minor": 0
      },
      "text/plain": [
       "  0%|          | 0/500 [00:00<?, ?it/s]"
      ]
     },
     "metadata": {},
     "output_type": "display_data"
    },
    {
     "name": "stdout",
     "output_type": "stream",
     "text": [
      "Averaged tensor shape: torch.Size([1950])\n",
      "Averaged tensor: tensor([-3.1518e-02,  1.4470e-01,  2.3712e-01,  ...,  2.6487e-06,\n",
      "         3.1148e-06, -2.3233e-05], dtype=torch.float64)\n",
      "Interpretation result is an averaged tensor. It is saved as:\n",
      "interpretation_files/mean_GradientShap_quad.pt\n"
     ]
    }
   ],
   "source": [
    "mean_GS = cnn_interpretation_pipeline(\n",
    "    model,\n",
    "    loader_test_subset,\n",
    "    loader_train,\n",
    "    width,\n",
    "    \"interpretation_files/mean_GradientShap_quad\",\n",
    "    \"GradientShap\",\n",
    "    need_return=1,\n",
    ")\n"
   ]
  },
  {
   "cell_type": "code",
   "execution_count": 34,
   "id": "81efdc56-eb94-4b5d-859c-a79e54e78476",
   "metadata": {},
   "outputs": [],
   "source": [
    "# in our features data first 4 indices correspond to ACTG\n",
    "mean_IG = mean_IG[4:]\n",
    "mean_DL = mean_DL[4:]\n",
    "mean_GS = mean_GS[4:]\n",
    "mean_GB = mean_GB[4:]\n",
    "mean_IXG = mean_IXG[4:]"
   ]
  },
  {
   "cell_type": "code",
   "execution_count": 35,
   "id": "bcdff3ef-c2e5-42a7-a4ae-33ef5364f171",
   "metadata": {},
   "outputs": [],
   "source": [
    "features_weights = {\n",
    "    \"mean_IG\": mean_IG,\n",
    "    \"mean_DL\": mean_DL,\n",
    "    \"mean_GS\": mean_GS,\n",
    "    \"mean_GB\": mean_GB,\n",
    "    \"mean_IXG\": mean_IXG,\n",
    "}\n",
    "features_weights = pd.DataFrame(features_weights)\n"
   ]
  },
  {
   "cell_type": "code",
   "execution_count": 36,
   "id": "c98b2aa1-344b-4acf-a440-6cc17b8cd76f",
   "metadata": {},
   "outputs": [
    {
     "data": {
      "text/html": [
       "<div>\n",
       "<style scoped>\n",
       "    .dataframe tbody tr th:only-of-type {\n",
       "        vertical-align: middle;\n",
       "    }\n",
       "\n",
       "    .dataframe tbody tr th {\n",
       "        vertical-align: top;\n",
       "    }\n",
       "\n",
       "    .dataframe thead th {\n",
       "        text-align: right;\n",
       "    }\n",
       "</style>\n",
       "<table border=\"1\" class=\"dataframe\">\n",
       "  <thead>\n",
       "    <tr style=\"text-align: right;\">\n",
       "      <th></th>\n",
       "      <th>mean_IG</th>\n",
       "      <th>mean_DL</th>\n",
       "      <th>mean_GS</th>\n",
       "      <th>mean_GB</th>\n",
       "      <th>mean_IXG</th>\n",
       "    </tr>\n",
       "  </thead>\n",
       "  <tbody>\n",
       "    <tr>\n",
       "      <th>0</th>\n",
       "      <td>-0.029835</td>\n",
       "      <td>8.217483e-06</td>\n",
       "      <td>-0.000157</td>\n",
       "      <td>0.046790</td>\n",
       "      <td>-1.184282e-02</td>\n",
       "    </tr>\n",
       "    <tr>\n",
       "      <th>1</th>\n",
       "      <td>-0.000036</td>\n",
       "      <td>8.201226e-07</td>\n",
       "      <td>0.000088</td>\n",
       "      <td>0.028352</td>\n",
       "      <td>-3.702821e-07</td>\n",
       "    </tr>\n",
       "    <tr>\n",
       "      <th>2</th>\n",
       "      <td>-0.028408</td>\n",
       "      <td>-7.423853e-05</td>\n",
       "      <td>0.006172</td>\n",
       "      <td>0.055155</td>\n",
       "      <td>-3.017598e-02</td>\n",
       "    </tr>\n",
       "    <tr>\n",
       "      <th>3</th>\n",
       "      <td>0.001172</td>\n",
       "      <td>-9.900524e-08</td>\n",
       "      <td>-0.000015</td>\n",
       "      <td>0.004410</td>\n",
       "      <td>6.141821e-04</td>\n",
       "    </tr>\n",
       "    <tr>\n",
       "      <th>4</th>\n",
       "      <td>-0.000030</td>\n",
       "      <td>4.661138e-07</td>\n",
       "      <td>-0.000075</td>\n",
       "      <td>0.006531</td>\n",
       "      <td>9.155139e-06</td>\n",
       "    </tr>\n",
       "  </tbody>\n",
       "</table>\n",
       "</div>"
      ],
      "text/plain": [
       "    mean_IG       mean_DL   mean_GS   mean_GB      mean_IXG\n",
       "0 -0.029835  8.217483e-06 -0.000157  0.046790 -1.184282e-02\n",
       "1 -0.000036  8.201226e-07  0.000088  0.028352 -3.702821e-07\n",
       "2 -0.028408 -7.423853e-05  0.006172  0.055155 -3.017598e-02\n",
       "3  0.001172 -9.900524e-08 -0.000015  0.004410  6.141821e-04\n",
       "4 -0.000030  4.661138e-07 -0.000075  0.006531  9.155139e-06"
      ]
     },
     "execution_count": 36,
     "metadata": {},
     "output_type": "execute_result"
    }
   ],
   "source": [
    "features_weights.head()"
   ]
  },
  {
   "cell_type": "code",
   "execution_count": 39,
   "id": "9939d1a7-d955-4ec0-af56-03be1982ddf5",
   "metadata": {},
   "outputs": [],
   "source": [
    "features = [i[:-4] for i in os.listdir('z_dna/hg38_features/sparse/') if i.endswith('.pkl')]\n",
    "feature_names = [i for i in features]\n",
    "\n",
    "features_weights[\"feature_names\"] = feature_names"
   ]
  },
  {
   "cell_type": "code",
   "execution_count": 41,
   "id": "ce744e5d-293a-4511-a357-706ba88ecddb",
   "metadata": {},
   "outputs": [],
   "source": [
    "metric_cols = ['mean_IG', 'mean_DL', 'mean_GS', 'mean_GB', 'mean_IXG']\n",
    "\n",
    "\n",
    "ranks = features_weights[metric_cols].rank(ascending=False, method='average')\n",
    "features_weights['borda_rank'] = ranks.sum(axis=1)"
   ]
  },
  {
   "cell_type": "code",
   "execution_count": 42,
   "id": "de701a25-719c-48ad-8fea-52cf7e48a264",
   "metadata": {},
   "outputs": [],
   "source": [
    "features_weights.to_csv(\"interpretation_files/features_importance_G4.csv\")"
   ]
  }
 ],
 "metadata": {
  "kernelspec": {
   "display_name": "Google Colab Analog 2024 (PyTorch 2.5.1 + TensorFlow 2.18) [python-google_colab_gpu_2024]",
   "language": "python",
   "name": "conda-env-python-google_colab_gpu_2024-py"
  },
  "language_info": {
   "codemirror_mode": {
    "name": "ipython",
    "version": 3
   },
   "file_extension": ".py",
   "mimetype": "text/x-python",
   "name": "python",
   "nbconvert_exporter": "python",
   "pygments_lexer": "ipython3",
   "version": "3.10.15"
  }
 },
 "nbformat": 4,
 "nbformat_minor": 5
}
